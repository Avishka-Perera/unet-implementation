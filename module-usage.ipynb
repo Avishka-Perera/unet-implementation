{
 "cells": [
  {
   "cell_type": "markdown",
   "metadata": {},
   "source": [
    "# Dataset"
   ]
  },
  {
   "cell_type": "code",
   "execution_count": null,
   "metadata": {},
   "outputs": [],
   "source": [
    "from src.datasets import ISBISegment\n",
    "import matplotlib.pyplot as plt\n",
    "\n",
    "\n",
    "ds = ISBISegment(\"./datasets/ISBI-2012-challenge/\")\n",
    "\n",
    "sample = ds[0]\n",
    "img, seg = sample[\"img\"], sample[\"seg\"]\n",
    "print(f\"Image shape: {img.shape}\")\n",
    "print(f\"Segmentation shape: {seg.shape}\")\n",
    "print(f\"Sample count: {len(ds)}\")\n",
    "\n",
    "\n",
    "fig, ax = plt.subplots(1, 2)\n",
    "ax[0].imshow(img.numpy().transpose(1, 2, 0))\n",
    "ax[1].imshow(seg.numpy().transpose(1, 2, 0), cmap=\"gray\")\n",
    "plt.show()"
   ]
  },
  {
   "cell_type": "markdown",
   "metadata": {},
   "source": [
    "# Model"
   ]
  },
  {
   "cell_type": "code",
   "execution_count": null,
   "metadata": {},
   "outputs": [],
   "source": [
    "import torch\n",
    "from src.learner import UNet\n",
    "\n",
    "model = UNet()\n",
    "img = torch.Tensor(8, 1, 572, 572)\n",
    "batch = {\"img\": img}\n",
    "out = model(batch)\n",
    "out[\"seg\"].shape"
   ]
  },
  {
   "cell_type": "markdown",
   "metadata": {},
   "source": [
    "# Loss"
   ]
  },
  {
   "cell_type": "code",
   "execution_count": null,
   "metadata": {},
   "outputs": [],
   "source": [
    "from src.datasets import ISBISegment\n",
    "from src.learner import UNet\n",
    "from src.loss import SegmentCrossEntropy\n",
    "\n",
    "\n",
    "sample_id = 0\n",
    "device = 1\n",
    "ds = ISBISegment(\"./datasets/ISBI-2012-challenge/\")\n",
    "model = UNet()\n",
    "model.set_devices([device])\n",
    "loss_fn = SegmentCrossEntropy(device)\n",
    "sample = ds[sample_id]\n",
    "img, seg = sample[\"img\"], sample[\"seg\"]\n",
    "info = model(sample)\n",
    "loss = loss_fn(sample, info)\n",
    "\n",
    "loss"
   ]
  },
  {
   "cell_type": "code",
   "execution_count": null,
   "metadata": {},
   "outputs": [],
   "source": []
  }
 ],
 "metadata": {
  "kernelspec": {
   "display_name": "ie",
   "language": "python",
   "name": "python3"
  },
  "language_info": {
   "codemirror_mode": {
    "name": "ipython",
    "version": 3
   },
   "file_extension": ".py",
   "mimetype": "text/x-python",
   "name": "python",
   "nbconvert_exporter": "python",
   "pygments_lexer": "ipython3",
   "version": "3.11.7"
  }
 },
 "nbformat": 4,
 "nbformat_minor": 2
}
